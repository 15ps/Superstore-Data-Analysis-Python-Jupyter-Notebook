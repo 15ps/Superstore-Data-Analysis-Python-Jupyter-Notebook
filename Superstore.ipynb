{
 "cells": [
  {
   "cell_type": "markdown",
   "id": "a21449dd",
   "metadata": {},
   "source": [
    "# Superstore Data analysis"
   ]
  },
  {
   "cell_type": "markdown",
   "id": "eff58dc9",
   "metadata": {},
   "source": [
    "# Step 1:import libraries"
   ]
  },
  {
   "cell_type": "code",
   "execution_count": 1,
   "id": "7b08ff22",
   "metadata": {},
   "outputs": [],
   "source": [
    "import pandas as pd\n",
    "import numpy as np\n",
    "import matplotlib.pyplot as plt\n",
    "import seaborn as sns"
   ]
  },
  {
   "cell_type": "markdown",
   "id": "63c6cd3c",
   "metadata": {},
   "source": [
    "# Step 2:import dataset"
   ]
  },
  {
   "cell_type": "code",
   "execution_count": 2,
   "id": "02a0602c",
   "metadata": {},
   "outputs": [],
   "source": [
    "df=pd.read_excel(r\"C:\\Users\\Paramita Sen\\Downloads\\Superstore_USA.xlsx\\Superstore_USA.xlsx\")"
   ]
  },
  {
   "cell_type": "markdown",
   "id": "dc0f0fab",
   "metadata": {},
   "source": [
    "# Step 3:data clean & eda"
   ]
  },
  {
   "cell_type": "code",
   "execution_count": 3,
   "id": "b7ee7588",
   "metadata": {
    "scrolled": true
   },
   "outputs": [
    {
     "data": {
      "text/html": [
       "<div>\n",
       "<style scoped>\n",
       "    .dataframe tbody tr th:only-of-type {\n",
       "        vertical-align: middle;\n",
       "    }\n",
       "\n",
       "    .dataframe tbody tr th {\n",
       "        vertical-align: top;\n",
       "    }\n",
       "\n",
       "    .dataframe thead th {\n",
       "        text-align: right;\n",
       "    }\n",
       "</style>\n",
       "<table border=\"1\" class=\"dataframe\">\n",
       "  <thead>\n",
       "    <tr style=\"text-align: right;\">\n",
       "      <th></th>\n",
       "      <th>Row ID</th>\n",
       "      <th>Order Priority</th>\n",
       "      <th>Discount</th>\n",
       "      <th>Unit Price</th>\n",
       "      <th>Shipping Cost</th>\n",
       "      <th>Customer ID</th>\n",
       "      <th>Customer Name</th>\n",
       "      <th>Ship Mode</th>\n",
       "      <th>Customer Segment</th>\n",
       "      <th>Product Category</th>\n",
       "      <th>...</th>\n",
       "      <th>Region</th>\n",
       "      <th>State or Province</th>\n",
       "      <th>City</th>\n",
       "      <th>Postal Code</th>\n",
       "      <th>Order Date</th>\n",
       "      <th>Ship Date</th>\n",
       "      <th>Profit</th>\n",
       "      <th>Quantity ordered new</th>\n",
       "      <th>Sales</th>\n",
       "      <th>Order ID</th>\n",
       "    </tr>\n",
       "  </thead>\n",
       "  <tbody>\n",
       "    <tr>\n",
       "      <th>0</th>\n",
       "      <td>18606</td>\n",
       "      <td>Not Specified</td>\n",
       "      <td>0.01</td>\n",
       "      <td>2.88</td>\n",
       "      <td>0.50</td>\n",
       "      <td>2</td>\n",
       "      <td>Janice Fletcher</td>\n",
       "      <td>Regular Air</td>\n",
       "      <td>Corporate</td>\n",
       "      <td>Office Supplies</td>\n",
       "      <td>...</td>\n",
       "      <td>Central</td>\n",
       "      <td>Illinois</td>\n",
       "      <td>Addison</td>\n",
       "      <td>60101</td>\n",
       "      <td>2012-05-28</td>\n",
       "      <td>2012-05-30</td>\n",
       "      <td>1.32</td>\n",
       "      <td>2</td>\n",
       "      <td>5.90</td>\n",
       "      <td>88525</td>\n",
       "    </tr>\n",
       "    <tr>\n",
       "      <th>1</th>\n",
       "      <td>20847</td>\n",
       "      <td>High</td>\n",
       "      <td>0.01</td>\n",
       "      <td>2.84</td>\n",
       "      <td>0.93</td>\n",
       "      <td>3</td>\n",
       "      <td>Bonnie Potter</td>\n",
       "      <td>Express Air</td>\n",
       "      <td>Corporate</td>\n",
       "      <td>Office Supplies</td>\n",
       "      <td>...</td>\n",
       "      <td>West</td>\n",
       "      <td>Washington</td>\n",
       "      <td>Anacortes</td>\n",
       "      <td>98221</td>\n",
       "      <td>2010-07-07</td>\n",
       "      <td>2010-07-08</td>\n",
       "      <td>4.56</td>\n",
       "      <td>4</td>\n",
       "      <td>13.01</td>\n",
       "      <td>88522</td>\n",
       "    </tr>\n",
       "    <tr>\n",
       "      <th>2</th>\n",
       "      <td>23086</td>\n",
       "      <td>Not Specified</td>\n",
       "      <td>0.03</td>\n",
       "      <td>6.68</td>\n",
       "      <td>6.15</td>\n",
       "      <td>3</td>\n",
       "      <td>Bonnie Potter</td>\n",
       "      <td>Express Air</td>\n",
       "      <td>Corporate</td>\n",
       "      <td>Office Supplies</td>\n",
       "      <td>...</td>\n",
       "      <td>West</td>\n",
       "      <td>Washington</td>\n",
       "      <td>Anacortes</td>\n",
       "      <td>98221</td>\n",
       "      <td>2011-07-27</td>\n",
       "      <td>2011-07-28</td>\n",
       "      <td>-47.64</td>\n",
       "      <td>7</td>\n",
       "      <td>49.92</td>\n",
       "      <td>88523</td>\n",
       "    </tr>\n",
       "  </tbody>\n",
       "</table>\n",
       "<p>3 rows × 24 columns</p>\n",
       "</div>"
      ],
      "text/plain": [
       "   Row ID Order Priority  Discount  Unit Price  Shipping Cost  Customer ID  \\\n",
       "0   18606  Not Specified      0.01        2.88           0.50            2   \n",
       "1   20847           High      0.01        2.84           0.93            3   \n",
       "2   23086  Not Specified      0.03        6.68           6.15            3   \n",
       "\n",
       "     Customer Name    Ship Mode Customer Segment Product Category  ...  \\\n",
       "0  Janice Fletcher  Regular Air        Corporate  Office Supplies  ...   \n",
       "1    Bonnie Potter  Express Air        Corporate  Office Supplies  ...   \n",
       "2    Bonnie Potter  Express Air        Corporate  Office Supplies  ...   \n",
       "\n",
       "    Region State or Province       City  Postal Code Order Date  Ship Date  \\\n",
       "0  Central          Illinois    Addison        60101 2012-05-28 2012-05-30   \n",
       "1     West        Washington  Anacortes        98221 2010-07-07 2010-07-08   \n",
       "2     West        Washington  Anacortes        98221 2011-07-27 2011-07-28   \n",
       "\n",
       "  Profit  Quantity ordered new  Sales Order ID  \n",
       "0   1.32                     2   5.90    88525  \n",
       "1   4.56                     4  13.01    88522  \n",
       "2 -47.64                     7  49.92    88523  \n",
       "\n",
       "[3 rows x 24 columns]"
      ]
     },
     "execution_count": 3,
     "metadata": {},
     "output_type": "execute_result"
    }
   ],
   "source": [
    "df.head(3)"
   ]
  },
  {
   "cell_type": "code",
   "execution_count": 4,
   "id": "86be7ad0",
   "metadata": {},
   "outputs": [
    {
     "name": "stdout",
     "output_type": "stream",
     "text": [
      "<class 'pandas.core.frame.DataFrame'>\n",
      "RangeIndex: 9426 entries, 0 to 9425\n",
      "Data columns (total 24 columns):\n",
      " #   Column                Non-Null Count  Dtype         \n",
      "---  ------                --------------  -----         \n",
      " 0   Row ID                9426 non-null   int64         \n",
      " 1   Order Priority        9426 non-null   object        \n",
      " 2   Discount              9426 non-null   float64       \n",
      " 3   Unit Price            9426 non-null   float64       \n",
      " 4   Shipping Cost         9426 non-null   float64       \n",
      " 5   Customer ID           9426 non-null   int64         \n",
      " 6   Customer Name         9426 non-null   object        \n",
      " 7   Ship Mode             9426 non-null   object        \n",
      " 8   Customer Segment      9426 non-null   object        \n",
      " 9   Product Category      9426 non-null   object        \n",
      " 10  Product Sub-Category  9426 non-null   object        \n",
      " 11  Product Container     9426 non-null   object        \n",
      " 12  Product Name          9426 non-null   object        \n",
      " 13  Product Base Margin   9354 non-null   float64       \n",
      " 14  Region                9426 non-null   object        \n",
      " 15  State or Province     9426 non-null   object        \n",
      " 16  City                  9426 non-null   object        \n",
      " 17  Postal Code           9426 non-null   int64         \n",
      " 18  Order Date            9426 non-null   datetime64[ns]\n",
      " 19  Ship Date             9426 non-null   datetime64[ns]\n",
      " 20  Profit                9426 non-null   float64       \n",
      " 21  Quantity ordered new  9426 non-null   int64         \n",
      " 22  Sales                 9426 non-null   float64       \n",
      " 23  Order ID              9426 non-null   int64         \n",
      "dtypes: datetime64[ns](2), float64(6), int64(5), object(11)\n",
      "memory usage: 1.7+ MB\n"
     ]
    }
   ],
   "source": [
    "df.info()"
   ]
  },
  {
   "cell_type": "code",
   "execution_count": 5,
   "id": "c4928bfe",
   "metadata": {},
   "outputs": [
    {
     "data": {
      "text/plain": [
       "(9426, 24)"
      ]
     },
     "execution_count": 5,
     "metadata": {},
     "output_type": "execute_result"
    }
   ],
   "source": [
    "df.shape"
   ]
  },
  {
   "cell_type": "code",
   "execution_count": 6,
   "id": "381778cf",
   "metadata": {},
   "outputs": [
    {
     "data": {
      "text/html": [
       "<div>\n",
       "<style scoped>\n",
       "    .dataframe tbody tr th:only-of-type {\n",
       "        vertical-align: middle;\n",
       "    }\n",
       "\n",
       "    .dataframe tbody tr th {\n",
       "        vertical-align: top;\n",
       "    }\n",
       "\n",
       "    .dataframe thead th {\n",
       "        text-align: right;\n",
       "    }\n",
       "</style>\n",
       "<table border=\"1\" class=\"dataframe\">\n",
       "  <thead>\n",
       "    <tr style=\"text-align: right;\">\n",
       "      <th></th>\n",
       "      <th>Row ID</th>\n",
       "      <th>Discount</th>\n",
       "      <th>Unit Price</th>\n",
       "      <th>Shipping Cost</th>\n",
       "      <th>Customer ID</th>\n",
       "      <th>Product Base Margin</th>\n",
       "      <th>Postal Code</th>\n",
       "      <th>Order Date</th>\n",
       "      <th>Ship Date</th>\n",
       "      <th>Profit</th>\n",
       "      <th>Quantity ordered new</th>\n",
       "      <th>Sales</th>\n",
       "      <th>Order ID</th>\n",
       "    </tr>\n",
       "  </thead>\n",
       "  <tbody>\n",
       "    <tr>\n",
       "      <th>count</th>\n",
       "      <td>9426.000000</td>\n",
       "      <td>9426.000000</td>\n",
       "      <td>9426.000000</td>\n",
       "      <td>9426.000000</td>\n",
       "      <td>9426.000000</td>\n",
       "      <td>9354.000000</td>\n",
       "      <td>9426.000000</td>\n",
       "      <td>9426</td>\n",
       "      <td>9426</td>\n",
       "      <td>9426.000000</td>\n",
       "      <td>9426.000000</td>\n",
       "      <td>9426.000000</td>\n",
       "      <td>9426.000000</td>\n",
       "    </tr>\n",
       "    <tr>\n",
       "      <th>mean</th>\n",
       "      <td>20241.015277</td>\n",
       "      <td>0.049628</td>\n",
       "      <td>88.303686</td>\n",
       "      <td>12.795142</td>\n",
       "      <td>1738.422236</td>\n",
       "      <td>0.512189</td>\n",
       "      <td>52446.327286</td>\n",
       "      <td>2012-03-05 18:33:59.465308672</td>\n",
       "      <td>2012-03-07 19:16:18.485041408</td>\n",
       "      <td>139.236410</td>\n",
       "      <td>13.798430</td>\n",
       "      <td>949.706272</td>\n",
       "      <td>82318.489073</td>\n",
       "    </tr>\n",
       "    <tr>\n",
       "      <th>min</th>\n",
       "      <td>2.000000</td>\n",
       "      <td>0.000000</td>\n",
       "      <td>0.990000</td>\n",
       "      <td>0.490000</td>\n",
       "      <td>2.000000</td>\n",
       "      <td>0.350000</td>\n",
       "      <td>1001.000000</td>\n",
       "      <td>2010-01-01 00:00:00</td>\n",
       "      <td>2010-01-02 00:00:00</td>\n",
       "      <td>-16476.838000</td>\n",
       "      <td>1.000000</td>\n",
       "      <td>1.320000</td>\n",
       "      <td>6.000000</td>\n",
       "    </tr>\n",
       "    <tr>\n",
       "      <th>25%</th>\n",
       "      <td>19330.250000</td>\n",
       "      <td>0.020000</td>\n",
       "      <td>6.480000</td>\n",
       "      <td>3.192500</td>\n",
       "      <td>898.000000</td>\n",
       "      <td>0.380000</td>\n",
       "      <td>29406.000000</td>\n",
       "      <td>2011-03-07 06:00:00</td>\n",
       "      <td>2011-03-09 00:00:00</td>\n",
       "      <td>-74.017375</td>\n",
       "      <td>5.000000</td>\n",
       "      <td>61.282500</td>\n",
       "      <td>86737.250000</td>\n",
       "    </tr>\n",
       "    <tr>\n",
       "      <th>50%</th>\n",
       "      <td>21686.500000</td>\n",
       "      <td>0.050000</td>\n",
       "      <td>20.990000</td>\n",
       "      <td>6.050000</td>\n",
       "      <td>1750.000000</td>\n",
       "      <td>0.520000</td>\n",
       "      <td>52302.000000</td>\n",
       "      <td>2012-04-08 00:00:00</td>\n",
       "      <td>2012-04-09 00:00:00</td>\n",
       "      <td>2.567600</td>\n",
       "      <td>10.000000</td>\n",
       "      <td>203.455000</td>\n",
       "      <td>88344.500000</td>\n",
       "    </tr>\n",
       "    <tr>\n",
       "      <th>75%</th>\n",
       "      <td>24042.750000</td>\n",
       "      <td>0.080000</td>\n",
       "      <td>85.990000</td>\n",
       "      <td>13.990000</td>\n",
       "      <td>2578.750000</td>\n",
       "      <td>0.590000</td>\n",
       "      <td>78516.000000</td>\n",
       "      <td>2013-03-26 00:00:00</td>\n",
       "      <td>2013-03-28 00:00:00</td>\n",
       "      <td>140.243850</td>\n",
       "      <td>17.000000</td>\n",
       "      <td>776.402500</td>\n",
       "      <td>89987.750000</td>\n",
       "    </tr>\n",
       "    <tr>\n",
       "      <th>max</th>\n",
       "      <td>26399.000000</td>\n",
       "      <td>0.250000</td>\n",
       "      <td>6783.020000</td>\n",
       "      <td>164.730000</td>\n",
       "      <td>3403.000000</td>\n",
       "      <td>0.850000</td>\n",
       "      <td>99362.000000</td>\n",
       "      <td>2013-12-31 00:00:00</td>\n",
       "      <td>2014-01-17 00:00:00</td>\n",
       "      <td>16332.414000</td>\n",
       "      <td>170.000000</td>\n",
       "      <td>100119.160000</td>\n",
       "      <td>91591.000000</td>\n",
       "    </tr>\n",
       "    <tr>\n",
       "      <th>std</th>\n",
       "      <td>6101.890965</td>\n",
       "      <td>0.031798</td>\n",
       "      <td>281.540982</td>\n",
       "      <td>17.181203</td>\n",
       "      <td>979.167197</td>\n",
       "      <td>0.135229</td>\n",
       "      <td>29374.597802</td>\n",
       "      <td>NaN</td>\n",
       "      <td>NaN</td>\n",
       "      <td>998.486483</td>\n",
       "      <td>15.107688</td>\n",
       "      <td>2598.019818</td>\n",
       "      <td>19149.448857</td>\n",
       "    </tr>\n",
       "  </tbody>\n",
       "</table>\n",
       "</div>"
      ],
      "text/plain": [
       "             Row ID     Discount   Unit Price  Shipping Cost  Customer ID  \\\n",
       "count   9426.000000  9426.000000  9426.000000    9426.000000  9426.000000   \n",
       "mean   20241.015277     0.049628    88.303686      12.795142  1738.422236   \n",
       "min        2.000000     0.000000     0.990000       0.490000     2.000000   \n",
       "25%    19330.250000     0.020000     6.480000       3.192500   898.000000   \n",
       "50%    21686.500000     0.050000    20.990000       6.050000  1750.000000   \n",
       "75%    24042.750000     0.080000    85.990000      13.990000  2578.750000   \n",
       "max    26399.000000     0.250000  6783.020000     164.730000  3403.000000   \n",
       "std     6101.890965     0.031798   281.540982      17.181203   979.167197   \n",
       "\n",
       "       Product Base Margin   Postal Code                     Order Date  \\\n",
       "count          9354.000000   9426.000000                           9426   \n",
       "mean              0.512189  52446.327286  2012-03-05 18:33:59.465308672   \n",
       "min               0.350000   1001.000000            2010-01-01 00:00:00   \n",
       "25%               0.380000  29406.000000            2011-03-07 06:00:00   \n",
       "50%               0.520000  52302.000000            2012-04-08 00:00:00   \n",
       "75%               0.590000  78516.000000            2013-03-26 00:00:00   \n",
       "max               0.850000  99362.000000            2013-12-31 00:00:00   \n",
       "std               0.135229  29374.597802                            NaN   \n",
       "\n",
       "                           Ship Date        Profit  Quantity ordered new  \\\n",
       "count                           9426   9426.000000           9426.000000   \n",
       "mean   2012-03-07 19:16:18.485041408    139.236410             13.798430   \n",
       "min              2010-01-02 00:00:00 -16476.838000              1.000000   \n",
       "25%              2011-03-09 00:00:00    -74.017375              5.000000   \n",
       "50%              2012-04-09 00:00:00      2.567600             10.000000   \n",
       "75%              2013-03-28 00:00:00    140.243850             17.000000   \n",
       "max              2014-01-17 00:00:00  16332.414000            170.000000   \n",
       "std                              NaN    998.486483             15.107688   \n",
       "\n",
       "               Sales      Order ID  \n",
       "count    9426.000000   9426.000000  \n",
       "mean      949.706272  82318.489073  \n",
       "min         1.320000      6.000000  \n",
       "25%        61.282500  86737.250000  \n",
       "50%       203.455000  88344.500000  \n",
       "75%       776.402500  89987.750000  \n",
       "max    100119.160000  91591.000000  \n",
       "std      2598.019818  19149.448857  "
      ]
     },
     "execution_count": 6,
     "metadata": {},
     "output_type": "execute_result"
    }
   ],
   "source": [
    "df.describe()"
   ]
  },
  {
   "cell_type": "code",
   "execution_count": 7,
   "id": "2dd34f4f",
   "metadata": {},
   "outputs": [
    {
     "data": {
      "text/plain": [
       "Row ID                   0\n",
       "Order Priority           0\n",
       "Discount                 0\n",
       "Unit Price               0\n",
       "Shipping Cost            0\n",
       "Customer ID              0\n",
       "Customer Name            0\n",
       "Ship Mode                0\n",
       "Customer Segment         0\n",
       "Product Category         0\n",
       "Product Sub-Category     0\n",
       "Product Container        0\n",
       "Product Name             0\n",
       "Product Base Margin     72\n",
       "Region                   0\n",
       "State or Province        0\n",
       "City                     0\n",
       "Postal Code              0\n",
       "Order Date               0\n",
       "Ship Date                0\n",
       "Profit                   0\n",
       "Quantity ordered new     0\n",
       "Sales                    0\n",
       "Order ID                 0\n",
       "dtype: int64"
      ]
     },
     "execution_count": 7,
     "metadata": {},
     "output_type": "execute_result"
    }
   ],
   "source": [
    "df.isnull().sum()"
   ]
  },
  {
   "cell_type": "code",
   "execution_count": 8,
   "id": "5745b660",
   "metadata": {},
   "outputs": [],
   "source": [
    "#fill all missing values of Product Base Margin "
   ]
  },
  {
   "cell_type": "code",
   "execution_count": 9,
   "id": "3e02d93a",
   "metadata": {
    "scrolled": true
   },
   "outputs": [
    {
     "data": {
      "text/plain": [
       "Row ID                  0\n",
       "Order Priority          0\n",
       "Discount                0\n",
       "Unit Price              0\n",
       "Shipping Cost           0\n",
       "Customer ID             0\n",
       "Customer Name           0\n",
       "Ship Mode               0\n",
       "Customer Segment        0\n",
       "Product Category        0\n",
       "Product Sub-Category    0\n",
       "Product Container       0\n",
       "Product Name            0\n",
       "Product Base Margin     0\n",
       "Region                  0\n",
       "State or Province       0\n",
       "City                    0\n",
       "Postal Code             0\n",
       "Order Date              0\n",
       "Ship Date               0\n",
       "Profit                  0\n",
       "Quantity ordered new    0\n",
       "Sales                   0\n",
       "Order ID                0\n",
       "dtype: int64"
      ]
     },
     "execution_count": 9,
     "metadata": {},
     "output_type": "execute_result"
    }
   ],
   "source": [
    "df['Product Base Margin'].fillna(df['Product Base Margin'].mean(),inplace=True)\n",
    "df.isnull().sum()"
   ]
  },
  {
   "cell_type": "markdown",
   "id": "39d99ed8",
   "metadata": {},
   "source": [
    "# Step4:analyse column order priority(univariate analysis)"
   ]
  },
  {
   "cell_type": "code",
   "execution_count": 10,
   "id": "68083e67",
   "metadata": {},
   "outputs": [],
   "source": [
    "#find count of high priority orders"
   ]
  },
  {
   "cell_type": "code",
   "execution_count": 11,
   "id": "1b7cba91",
   "metadata": {},
   "outputs": [
    {
     "data": {
      "text/plain": [
       "array(['Not Specified', 'High', 'Medium', 'Low', 'Critical', 'Critical '],\n",
       "      dtype=object)"
      ]
     },
     "execution_count": 11,
     "metadata": {},
     "output_type": "execute_result"
    }
   ],
   "source": [
    "df['Order Priority'].unique()"
   ]
  },
  {
   "cell_type": "code",
   "execution_count": 12,
   "id": "a4b62fea",
   "metadata": {},
   "outputs": [],
   "source": [
    "#remove the space in Critical\n",
    "df['Order Priority']=df['Order Priority'].replace(\"Critical \",\"Critical\")"
   ]
  },
  {
   "cell_type": "code",
   "execution_count": 13,
   "id": "7813060b",
   "metadata": {},
   "outputs": [
    {
     "data": {
      "text/plain": [
       "Order Priority\n",
       "High             1970\n",
       "Low              1926\n",
       "Not Specified    1881\n",
       "Medium           1844\n",
       "Critical         1805\n",
       "Name: count, dtype: int64"
      ]
     },
     "execution_count": 13,
     "metadata": {},
     "output_type": "execute_result"
    }
   ],
   "source": [
    "df['Order Priority'].value_counts()"
   ]
  },
  {
   "cell_type": "code",
   "execution_count": 14,
   "id": "0c040d5e",
   "metadata": {},
   "outputs": [
    {
     "data": {
      "image/png": "[encoded data removed]",
      "text/plain": [
       "<Figure size 1000x400 with 1 Axes>"
      ]
     },
     "metadata": {},
     "output_type": "display_data"
    }
   ],
   "source": [
    "plt.figure(figsize=(10,4))\n",
    "sns.countplot(x='Order Priority',data=df)\n",
    "plt.title(\"count of order priority\")\n",
    "plt.savefig(\"count of order priority.jpg\")\n",
    "plt.show()"
   ]
  },
  {
   "cell_type": "markdown",
   "id": "25b1f562",
   "metadata": {},
   "source": [
    "# Step5:analyse column ship mode(univariate analysis)"
   ]
  },
  {
   "cell_type": "code",
   "execution_count": 15,
   "id": "e5315d89",
   "metadata": {
    "scrolled": true
   },
   "outputs": [
    {
     "data": {
      "text/plain": [
       "Ship Mode\n",
       "Regular Air       7036\n",
       "Delivery Truck    1283\n",
       "Express Air       1107\n",
       "Name: count, dtype: int64"
      ]
     },
     "execution_count": 15,
     "metadata": {},
     "output_type": "execute_result"
    }
   ],
   "source": [
    "df['Ship Mode'].value_counts()"
   ]
  },
  {
   "cell_type": "code",
   "execution_count": 16,
   "id": "51176ce2",
   "metadata": {},
   "outputs": [
    {
     "data": {
      "text/plain": [
       "Index(['Regular Air', 'Delivery Truck', 'Express Air'], dtype='object', name='Ship Mode')"
      ]
     },
     "execution_count": 16,
     "metadata": {},
     "output_type": "execute_result"
    }
   ],
   "source": [
    "x=df['Ship Mode'].value_counts().index\n",
    "x"
   ]
  },
  {
   "cell_type": "code",
   "execution_count": 17,
   "id": "36c93eb3",
   "metadata": {},
   "outputs": [
    {
     "data": {
      "text/plain": [
       "array([7036, 1283, 1107], dtype=int64)"
      ]
     },
     "execution_count": 17,
     "metadata": {},
     "output_type": "execute_result"
    }
   ],
   "source": [
    "y=df['Ship Mode'].value_counts().values\n",
    "y"
   ]
  },
  {
   "cell_type": "code",
   "execution_count": 18,
   "id": "1d5e563d",
   "metadata": {},
   "outputs": [
    {
     "data": {
      "text/plain": [
       "<function matplotlib.pyplot.show(close=None, block=None)>"
      ]
     },
     "execution_count": 18,
     "metadata": {},
     "output_type": "execute_result"
    },
    {
     "data": {
      "image/png": "[encoded data removed]",
      "text/plain": [
       "<Figure size 500x300 with 1 Axes>"
      ]
     },
     "metadata": {},
     "output_type": "display_data"
    }
   ],
   "source": [
    "plt.figure(figsize=(5,3))\n",
    "plt.pie(y,labels=x,startangle=60,autopct=\"%0.2f%%\")\n",
    "plt.legend(loc=3)\n",
    "plt.show"
   ]
  },
  {
   "cell_type": "markdown",
   "id": "393ad965",
   "metadata": {},
   "source": [
    "# step 6:Analyze shiping mode of product with respect to their categories(biveriate analysis)"
   ]
  },
  {
   "cell_type": "code",
   "execution_count": 19,
   "id": "f9673242",
   "metadata": {},
   "outputs": [
    {
     "data": {
      "image/png": "[encoded data removed]",
      "text/plain": [
       "<Figure size 500x300 with 1 Axes>"
      ]
     },
     "metadata": {},
     "output_type": "display_data"
    }
   ],
   "source": [
    "plt.figure(figsize=(5,3))\n",
    "sns.countplot(x='Ship Mode',data=df,hue='Product Category')\n",
    "plt.show()"
   ]
  },
  {
   "cell_type": "markdown",
   "id": "16faa692",
   "metadata": {},
   "source": [
    "# step7:understand customer segment using countplot"
   ]
  },
  {
   "cell_type": "code",
   "execution_count": 20,
   "id": "a13dbed9",
   "metadata": {},
   "outputs": [
    {
     "data": {
      "image/png": "[encoded data removed]",
      "text/plain": [
       "<Figure size 500x300 with 1 Axes>"
      ]
     },
     "metadata": {},
     "output_type": "display_data"
    }
   ],
   "source": [
    "plt.figure(figsize=(5,3))\n",
    "sns.countplot(x='Customer Segment',data=df,hue='Product Category')\n",
    "plt.show()"
   ]
  },
  {
   "cell_type": "markdown",
   "id": "5e9bf970",
   "metadata": {},
   "source": [
    "# step 8:Analyze subcategories of product with respect to their categories(biveriate analysis)"
   ]
  },
  {
   "cell_type": "code",
   "execution_count": 21,
   "id": "6ad2690d",
   "metadata": {},
   "outputs": [
    {
     "data": {
      "image/png": "[encoded data removed]",
      "text/plain": [
       "<Figure size 1000x400 with 1 Axes>"
      ]
     },
     "metadata": {},
     "output_type": "display_data"
    }
   ],
   "source": [
    "#for office supplies product category\n",
    "plt.figure(figsize=(10,4))\n",
    "sns.countplot(x='Product Category',data=df[df[\"Product Category\"]==\"Office Supplies\"],hue='Product Sub-Category')\n",
    "plt.legend(loc=1)\n",
    "plt.show()"
   ]
  },
  {
   "cell_type": "markdown",
   "id": "5e76f839",
   "metadata": {},
   "source": [
    "# step 9:analyze date"
   ]
  },
  {
   "cell_type": "code",
   "execution_count": 22,
   "id": "8b51dcec",
   "metadata": {},
   "outputs": [],
   "source": [
    "#create a new year column\n",
    "df['Order year']=df['Order Date'].dt.year"
   ]
  },
  {
   "cell_type": "code",
   "execution_count": 23,
   "id": "3bc23140",
   "metadata": {},
   "outputs": [
    {
     "data": {
      "text/plain": [
       "Order year\n",
       "2013    3054\n",
       "2012    2241\n",
       "2011    2179\n",
       "2010    1952\n",
       "Name: count, dtype: int64"
      ]
     },
     "execution_count": 23,
     "metadata": {},
     "output_type": "execute_result"
    }
   ],
   "source": [
    "df['Order year'].value_counts()"
   ]
  },
  {
   "cell_type": "code",
   "execution_count": 24,
   "id": "171b797d",
   "metadata": {
    "scrolled": true
   },
   "outputs": [
    {
     "data": {
      "image/png": "[encoded data removed]",
      "text/plain": [
       "<Figure size 500x300 with 1 Axes>"
      ]
     },
     "metadata": {},
     "output_type": "display_data"
    }
   ],
   "source": [
    "plt.figure(figsize=(5,3))\n",
    "sns.countplot(x='Order year',data=df)\n",
    "plt.show()"
   ]
  },
  {
   "cell_type": "markdown",
   "id": "0c67742b",
   "metadata": {},
   "source": [
    "# step 10:analyze profit date"
   ]
  },
  {
   "cell_type": "code",
   "execution_count": 25,
   "id": "e5b10f03",
   "metadata": {},
   "outputs": [
    {
     "data": {
      "image/png": "[encoded data removed]",
      "text/plain": [
       "<Figure size 640x480 with 1 Axes>"
      ]
     },
     "metadata": {},
     "output_type": "display_data"
    }
   ],
   "source": [
    "sns.barplot(x='Product Category',y='Profit',data=df,estimator='sum')\n",
    "plt.show()"
   ]
  },
  {
   "cell_type": "markdown",
   "id": "15b09c3f",
   "metadata": {},
   "source": [
    "# step 11:Geo analysis based on sales"
   ]
  },
  {
   "cell_type": "code",
   "execution_count": 26,
   "id": "556e19cd",
   "metadata": {},
   "outputs": [
    {
     "data": {
      "text/plain": [
       "State or Province\n",
       "California    1021\n",
       "Texas          646\n",
       "Illinois       584\n",
       "New York       574\n",
       "Florida        522\n",
       "Name: count, dtype: int64"
      ]
     },
     "execution_count": 26,
     "metadata": {},
     "output_type": "execute_result"
    }
   ],
   "source": [
    "#top5 sales states\n",
    "df['State or Province'].value_counts()[:5]"
   ]
  },
  {
   "cell_type": "code",
   "execution_count": 27,
   "id": "b89e3b3e",
   "metadata": {},
   "outputs": [
    {
     "data": {
      "text/plain": [
       "Index(['Row ID', 'Order Priority', 'Discount', 'Unit Price', 'Shipping Cost',\n",
       "       'Customer ID', 'Customer Name', 'Ship Mode', 'Customer Segment',\n",
       "       'Product Category', 'Product Sub-Category', 'Product Container',\n",
       "       'Product Name', 'Product Base Margin', 'Region', 'State or Province',\n",
       "       'City', 'Postal Code', 'Order Date', 'Ship Date', 'Profit',\n",
       "       'Quantity ordered new', 'Sales', 'Order ID', 'Order year'],\n",
       "      dtype='object')"
      ]
     },
     "execution_count": 27,
     "metadata": {},
     "output_type": "execute_result"
    }
   ],
   "source": [
    "df.columns"
   ]
  },
  {
   "cell_type": "code",
   "execution_count": 28,
   "id": "c0fb3baf",
   "metadata": {
    "scrolled": true
   },
   "outputs": [
    {
     "data": {
      "image/png": "[encoded data removed]",
      "text/plain": [
       "<Figure size 640x480 with 1 Axes>"
      ]
     },
     "metadata": {},
     "output_type": "display_data"
    }
   ],
   "source": [
    "sns.barplot(x='Product Category',y='Product Base Margin',data=df,estimator='sum')\n",
    "plt.show()"
   ]
  },
  {
   "cell_type": "markdown",
   "id": "36a8244d",
   "metadata": {},
   "source": [
    "# Conclusions"
   ]
  },
  {
   "cell_type": "code",
   "execution_count": 29,
   "id": "067d682e",
   "metadata": {},
   "outputs": [
    {
     "ename": "SyntaxError",
     "evalue": "invalid syntax (2920754905.py, line 2)",
     "output_type": "error",
     "traceback": [
      "\u001b[1;36m  Cell \u001b[1;32mIn[29], line 2\u001b[1;36m\u001b[0m\n\u001b[1;33m    most customers opt for High shipping needs.\u001b[0m\n\u001b[1;37m         ^\u001b[0m\n\u001b[1;31mSyntaxError\u001b[0m\u001b[1;31m:\u001b[0m invalid syntax\n"
     ]
    }
   ],
   "source": [
    "#1. Order Priority Distribution\n",
    "most customers opt for High shipping needs.\n",
    "\n",
    "#2. Shipping Mode Preferences\n",
    "Regular air is the most frequently used shipping mode.\n",
    "\n",
    "#3. Shipping Mode vs Product Category\n",
    "Office Supplies are shipped most frequently across all shipping modes.Furniture is shipped widely under office supplies.\n",
    "\n",
    "#4. Customer Segments Insights\n",
    "corporate segment is the largest customer base, followed by small business and Home Office.\n",
    "\n",
    "#5. Product Sub-Category Insights\n",
    "Within Office Supplies, sub-categories like Binders and Paper have the highest order volume.\n",
    "Indicates high demand for frequently used consumables.\n",
    "\n",
    "#6. Year-wise Order Trends\n",
    "Orders have increased over the years (based on available data), indicating business growth.\n",
    "\n",
    "#7. Profitability by Category\n",
    "Technology yields the highest total profit.\n",
    "Furniture has relatively lower profit margins, which may need strategic pricing or cost control.\n",
    "\n",
    "#8. Regional Sales Performance\n",
    "Top 5 states by sales volume are key markets. These could be targeted for further business development:-California,Texas,Illinois,New York,Florida\n",
    "\n",
    "#9. Product Base Margin Insights\n",
    "Office Supplies again leads with higher average base margins.Furniture have lower margins, reflecting their commodity-like nature."
   ]
  },
  {
   "cell_type": "markdown",
   "id": "beeefe8d",
   "metadata": {},
   "source": [
    "# Recommendations"
   ]
  },
  {
   "cell_type": "code",
   "execution_count": null,
   "id": "1f108902",
   "metadata": {},
   "outputs": [],
   "source": [
    "###1. **Enhance High-Priority Order Handling**\n",
    "\n",
    "#Insight: Most customers opt for high shipping needs.\n",
    "\n",
    "Invest in logistics to support faster and more reliable high-priority deliveries.\n",
    "Offer incentives (e.g., loyalty points or discounts) for selecting higher shipping tiers to drive revenue.\n",
    "\n",
    "---\n",
    "\n",
    "###2. **Optimize 'Regular Air' Shipping Mode**\n",
    "\n",
    "#Insight: Regular air is the most frequently used shipping mode.\n",
    "\n",
    "Negotiate bulk rates with shipping carriers** for air transport to reduce costs.\n",
    "Ensure inventory planning aligns with the quick turnaround demands of air shipments.\n",
    "\n",
    "---\n",
    "\n",
    "###3. **Leverage Office Supplies as a Volume Driver**\n",
    "\n",
    "#Insight: Office Supplies (especially Binders and Paper) ship most frequently.\n",
    "\n",
    "Offer subscription models or bulk purchase discounts for high-usage items.\n",
    "Bundle these with lower-performing sub-categories to increase overall basket size**.\n",
    "\n",
    "---\n",
    "\n",
    "###4. **Focus on Corporate and Small Business Segments**\n",
    "\n",
    "#Insight: Corporate is the largest segment.\n",
    "\n",
    "Develop customized corporate solutions (e.g., bulk invoicing, repeat order automation).\n",
    "Target small businesses with starter packs or promotional pricing to encourage loyalty.\n",
    "\n",
    "---\n",
    "\n",
    "###5. **Revise Furniture Strategy**\n",
    "\n",
    "#Insight: Furniture is widely shipped but has low margins.\n",
    "\n",
    "Review pricing or sourcing strategies to improve profitability.\n",
    "Position select furniture items as value-adds to high-margin tech purchases (e.g., office bundles).\n",
    "\n",
    "---\n",
    "\n",
    "###6. **Capitalize on Growth Trend**\n",
    "\n",
    "#Insight: Orders are increasing yearly.\n",
    "\n",
    "Increase marketing spend during high-growth quarters identified in historical data.\n",
    "Scale operations to support sustained growth, including warehousing and customer support.\n",
    "\n",
    "---\n",
    "\n",
    "###7. **Expand Technology Offerings**\n",
    "\n",
    "#Insight: Technology delivers the highest profits.\n",
    "\n",
    "Introduce complementary tech accessories (e.g., cables, peripherals) to increase upselling.\n",
    "Use profit contribution analysis to prioritize promotional spending on high-profit items.\n",
    "\n",
    "---\n",
    "\n",
    "###8. **Deepen Market Penetration in Top States**\n",
    "\n",
    "#Insight: CA, TX, IL, NY, FL are top-performing states.\n",
    "\n",
    "Launch geo-targeted ad campaigns and regional promotions.\n",
    "Explore local partnerships or fulfillment centers** to boost service quality in these states.\n",
    "\n",
    "---\n",
    "\n",
    "###9. **Focus on High-Margin Office Supplies**\n",
    "\n",
    "Insight: Office Supplies have higher base margins.\n",
    "\n",
    "Promote these items more actively in email campaigns and website banners.\n",
    "Explore private-label options for top-selling sub-categories to enhance brand control and margins.\n",
    "\n",
    "---"
   ]
  },
  {
   "cell_type": "markdown",
   "id": "21a50a48",
   "metadata": {},
   "source": [
    "# Thankyou"
   ]
  }
 ],
 "metadata": {
  "kernelspec": {
   "display_name": "Python 3 (ipykernel)",
   "language": "python",
   "name": "python3"
  },
  "language_info": {
   "codemirror_mode": {
    "name": "ipython",
    "version": 3
   },
   "file_extension": ".py",
   "mimetype": "text/x-python",
   "name": "python",
   "nbconvert_exporter": "python",
   "pygments_lexer": "ipython3",
   "version": "3.11.5"
  }
 },
 "nbformat": 4,
 "nbformat_minor": 5
}
